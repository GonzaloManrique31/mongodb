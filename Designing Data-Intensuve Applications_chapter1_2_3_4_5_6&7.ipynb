{
 "cells": [
  {
   "cell_type": "markdown",
   "metadata": {},
   "source": [
    "## Chapter 1"
   ]
  },
  {
   "cell_type": "markdown",
   "metadata": {},
   "source": [
    "### 1.- Why it is not so easy for an engineer to write a new data storage engine from scratch?"
   ]
  },
  {
   "cell_type": "markdown",
   "metadata": {},
   "source": [
    "#### A:\n",
    "Despite the fact that databases are the perfect tool, there are many database systems with different characteristics, because different applications have different requirements."
   ]
  },
  {
   "cell_type": "markdown",
   "metadata": {},
   "source": [
    "###  2.- Tell some typical reliability expectations for the software:"
   ]
  },
  {
   "cell_type": "markdown",
   "metadata": {},
   "source": [
    "#### A:\n",
    "* The application performs the function that the user expected. \n",
    "* It can tolerate the user making mistakes or using the software in unexpected\n",
    "ways.\n",
    "* Its performance is good enough for the required use case, under the expected\n",
    "load and data volume.\n",
    "* The system prevents any unauthorized access and abuse."
   ]
  },
  {
   "cell_type": "markdown",
   "metadata": {},
   "source": [
    "### 3.- What is the difference between a fault and a failure?"
   ]
  },
  {
   "cell_type": "markdown",
   "metadata": {},
   "source": [
    "#### A:\n",
    "* A fault is usually defined as one component of the system deviating from its spec.\n",
    "* Failure is when the system as a whole stops providing the required service to the user.\n"
   ]
  },
  {
   "cell_type": "markdown",
   "metadata": {},
   "source": [
    "### 4.- What kinds of hardware failures can there be?"
   ]
  },
  {
   "cell_type": "markdown",
   "metadata": {},
   "source": [
    "#### A:\n",
    "* Hard drives crash.\n",
    "* RAM becomes faulty.\n",
    "* The power grid has a blackou.\n",
    "* Someone disconnects the wrong network cable.\n",
    "* Power supply error.\n",
    "* Faults on the motherboard.\n",
    "* Excessive heating"
   ]
  },
  {
   "cell_type": "markdown",
   "metadata": {},
   "source": [
    "### 5.- Why are cascading failures dangerous?"
   ]
  },
  {
   "cell_type": "markdown",
   "metadata": {},
   "source": [
    "#### A:\n",
    "Because these errors are usually inactive for a long time, and are triggered by an unusual set of events.\n",
    "When this happens, then other parts must make up for the failed component. This in turn overloaded these nodes, causing them to crash as well, which caused additional nodes to fail one after the other."
   ]
  },
  {
   "cell_type": "markdown",
   "metadata": {},
   "source": [
    "### 6.- Difference between horizontal and vertical scalability."
   ]
  },
  {
   "cell_type": "markdown",
   "metadata": {},
   "source": [
    "#### A:\n",
    "* Scaling up a system means a migration of the entire system to new hardware that is more powerful and efficient than the current one.\n",
    "* Horizontal scalability consists of boosting the performance of the system from an aspect of global improvement, as opposed to increasing the power of a single part of it."
   ]
  },
  {
   "cell_type": "markdown",
   "metadata": {},
   "source": [
    "## Chapter 2"
   ]
  },
  {
   "cell_type": "markdown",
   "metadata": {},
   "source": [
    "### 1.- What data model did the IMS design use?"
   ]
  },
  {
   "cell_type": "markdown",
   "metadata": {},
   "source": [
    "#### A:\n",
    "Hierarchical model, which has some remarkable similarities to the JSON model used by document databases"
   ]
  },
  {
   "cell_type": "markdown",
   "metadata": {},
   "source": [
    "### 2.- What did the CODASYL model allow us?"
   ]
  },
  {
   "cell_type": "markdown",
   "metadata": {},
   "source": [
    "#### A:\n",
    "This allowed many-to-one and many-to-many relationships\n",
    "to be modeled."
   ]
  },
  {
   "cell_type": "markdown",
   "metadata": {},
   "source": [
    "### 3.-What is the main difference between hierarchical network model and relational database model?"
   ]
  },
  {
   "cell_type": "markdown",
   "metadata": {},
   "source": [
    "#### A:\n",
    "The main difference between hierarchical network and relational database model is that hierarchical model organizes data in a tree-like structure while network model arranges data in a graph structure and relational database model organizes data in tables."
   ]
  },
  {
   "cell_type": "markdown",
   "metadata": {},
   "source": [
    "### 4.-What are the strengths in favor of the relational database against the document databases? and vice versa."
   ]
  },
  {
   "cell_type": "markdown",
   "metadata": {},
   "source": [
    "#### A:\n",
    "* The document data model are schema flexibility, better\n",
    "performance due to locality, and that for some applications it is closer to the data\n",
    "structures used by the application.\n",
    "* The relational model provide better\n",
    "support for joins, and many-to-one and many-to-many relationships."
   ]
  },
  {
   "cell_type": "markdown",
   "metadata": {},
   "source": [
    "### 5.- What is MapReduce designed for?"
   ]
  },
  {
   "cell_type": "markdown",
   "metadata": {},
   "source": [
    "#### A:\n",
    "It has designed for processes in which large data sizes are involved by using hundreds or thousands of computers."
   ]
  },
  {
   "cell_type": "markdown",
   "metadata": {},
   "source": [
    "### 6.- What is each vertex and edge of a property graph model?"
   ]
  },
  {
   "cell_type": "markdown",
   "metadata": {},
   "source": [
    "#### A:\n",
    "Vertex:\n",
    "   * A unique identifier\n",
    "   * A set of outgoing edges\n",
    "   * A set of incoming edges\n",
    "   * A collection of properties (key-value pairs)\n",
    " \n",
    "Edge:\n",
    "   * A unique identifier\n",
    "   * The vertex at which the edge starts (the tail vertex)\n",
    "   * The vertex at which the edge ends (the head vertex)\n",
    "   * A label to describe the kind of relationship between the two vertices\n",
    "   * A collection of properties (key-value pairs)"
   ]
  },
  {
   "cell_type": "markdown",
   "metadata": {},
   "source": [
    "## Chapter 3"
   ]
  },
  {
   "cell_type": "markdown",
   "metadata": {},
   "source": [
    "### 1.- What is an index and what does deleting it affect or not?"
   ]
  },
  {
   "cell_type": "markdown",
   "metadata": {},
   "source": [
    "#### A: \n",
    "* An index is an additional structure that is derived from the primary data.\n",
    "* The content is not affected, it only affects the performance of the queries."
   ]
  },
  {
   "cell_type": "markdown",
   "metadata": {},
   "source": [
    "### 2.- For what reason databases don't usually index everything by default?"
   ]
  },
  {
   "cell_type": "markdown",
   "metadata": {},
   "source": [
    "#### A:\n",
    "They speed up read queries, but each index slows down writes."
   ]
  },
  {
   "cell_type": "markdown",
   "metadata": {},
   "source": [
    "### 3.- What is one of the best format for a log and why?"
   ]
  },
  {
   "cell_type": "markdown",
   "metadata": {},
   "source": [
    "#### A:\n",
    "The binary format: It is quick and easy to use, since it first encodes the length of a string in bytes, followed by the raw string."
   ]
  },
  {
   "cell_type": "markdown",
   "metadata": {},
   "source": [
    "### 4.- What is a tombstone?"
   ]
  },
  {
   "cell_type": "markdown",
   "metadata": {},
   "source": [
    "#### A:\n",
    "A tombstone is a deleted record in a replica of a distributed data store."
   ]
  },
  {
   "cell_type": "markdown",
   "metadata": {},
   "source": [
    "### 5.- What use can be made of Bloom filters?"
   ]
  },
  {
   "cell_type": "markdown",
   "metadata": {},
   "source": [
    "#### A:\n",
    "* Speed up the search for items.\n",
    "If the filter returns false then it is sure that the element is not in the set\n",
    "* Carry out searches without clearly specifying what you are looking for (protecting your privacy)"
   ]
  },
  {
   "cell_type": "markdown",
   "metadata": {},
   "source": [
    "### 6.- What is the main difference between LMS and B trees"
   ]
  },
  {
   "cell_type": "markdown",
   "metadata": {},
   "source": [
    "#### A:\n",
    "* LSM-Trees perform better on update queries.\n",
    "* B-Trees are preferable for short range lookups"
   ]
  },
  {
   "cell_type": "markdown",
   "metadata": {},
   "source": [
    "## Chapter 4"
   ]
  },
  {
   "cell_type": "markdown",
   "metadata": {},
   "source": [
    "### 1.- How works Data in memory?"
   ]
  },
  {
   "cell_type": "markdown",
   "metadata": {},
   "source": [
    "#### A:\n",
    "Data is kept in objects, structs, lists, arrays, hash tables, trees, and so\n",
    "on. "
   ]
  },
  {
   "cell_type": "markdown",
   "metadata": {},
   "source": [
    "### 2.- How works Data when we want to write data to a file or send it over the network?"
   ]
  },
  {
   "cell_type": "markdown",
   "metadata": {},
   "source": [
    "#### A:\n",
    "We have to encode it as some kind of self-contained sequence of bytes.\n",
    "Since a pointer wouldn’t make sense to any other process, this\n",
    "With the exception of some special cases, such as certain memory-mapped files or when operating directly\n",
    "on compressed data."
   ]
  },
  {
   "cell_type": "markdown",
   "metadata": {},
   "source": [
    "### 3.- What is the translation from the in-memory representation to a byte sequence is called and vice versa?"
   ]
  },
  {
   "cell_type": "markdown",
   "metadata": {},
   "source": [
    "#### A:\n",
    "* Encoding or also known as serialization or marshalling\n",
    "* Ecoding or also known as parsing, deserialization or unmarshalling."
   ]
  },
  {
   "cell_type": "markdown",
   "metadata": {},
   "source": [
    "### 4.- What flaws do we find in Java's built-in serialization"
   ]
  },
  {
   "cell_type": "markdown",
   "metadata": {},
   "source": [
    "#### A:\n",
    "It has bad performance and bloated encoding.\n",
    "For these reasons it’s generally a bad idea to use your language’s built-in encoding for anything other than very transient purposes."
   ]
  },
  {
   "cell_type": "markdown",
   "metadata": {},
   "source": [
    "### 5.- What are the main characteristics between XML, CSV and JSON?"
   ]
  },
  {
   "cell_type": "markdown",
   "metadata": {},
   "source": [
    "#### A:\n",
    "* In XML and CSV you cannot distinguish between a number and a string consisting of digits.\n",
    "* JSON distinguishes strings and numbers, but does not distinguish integers and floating point numbers, and does not specify a precision.\n",
    "* JSON and XML have good support for Unicode character strings, but do not support binary strings.\n",
    "* There is optional schema support for XML and JSON, and schema languages are quite powerful and, therefore, complicated to learn and implement.\n",
    "* CSV does not have a scheme, so it is up to the application to define the meaning of each row and column. If an application change adds a new row or column, you have to handle that change manually."
   ]
  },
  {
   "cell_type": "markdown",
   "metadata": {},
   "source": [
    "### 6.- What happens when you change to field's tag?"
   ]
  },
  {
   "cell_type": "markdown",
   "metadata": {},
   "source": [
    "#### A:\n",
    "This make all existing encoded data invalid."
   ]
  },
  {
   "cell_type": "markdown",
   "metadata": {},
   "source": [
    " ## Chapter 5"
   ]
  },
  {
   "cell_type": "markdown",
   "metadata": {},
   "source": [
    "### 1.- What does replication mean and for what reasons would they replicate?"
   ]
  },
  {
   "cell_type": "markdown",
   "metadata": {},
   "source": [
    "#### A: \n",
    "It means keeping a copy of the same data on multiple machines that are\n",
    "connected via a network.\n",
    "\n",
    "We could replicate data to:\n",
    "* To keep data geographically close to your users.\n",
    "* To allow the system to continue working even if some of its parts have failed.\n",
    "* To scale out the number of machines that can serve read queries."
   ]
  },
  {
   "cell_type": "markdown",
   "metadata": {},
   "source": [
    "### 2.- What is the difference of Synchronous and Asynchronous Replication?|"
   ]
  },
  {
   "cell_type": "markdown",
   "metadata": {},
   "source": [
    "#### A: \n",
    "Synchronous replication:\n",
    "* Here, data is replicated to a secondary remote location at the same time as new data is being created or updated in the primary datacenter. This makes for near-instant replication, which enables you to keep your data replicas only a few minutes older than the source material. Essentially, both host and target sources remain completely synchronized, which is crucial for successful disaster recovery (DR).\n",
    "\n",
    "Asynchronous replication:\n",
    "* In this case, replication is not performed at the same time as changes are made in the primary storage. Data is replicated only in predetermined time periods (this could be hourly, daily, or weekly). The replica can be stored in a remote DR location, as the replica does not have to be synchronized with the primary location in real time."
   ]
  },
  {
   "cell_type": "markdown",
   "metadata": {},
   "source": [
    "### 3.- Which Is Better: Synchronous or Asynchronous Replication?"
   ]
  },
  {
   "cell_type": "markdown",
   "metadata": {},
   "source": [
    "##### A:\n",
    "The choice depends entirely on the business priorities. Asynchronous replication works best with projects that span across long distances and are allocated a minimal budget. It is also suitable for businesses that can afford partial data loss. On the other hand, synchronous replication is performed when reliable and long-term storage is necessary and the business cannot afford to lose any critical data.\n",
    "\n",
    "However, there is a middle ground: you can use both synchronous and asynchronous replication strategies, at different infrastructure levels. For example, synchronous replication may be used to transfer and secure data over a Local Area Network (LAN) while asynchronous replication sends critical data to a remote DR site."
   ]
  },
  {
   "cell_type": "markdown",
   "metadata": {},
   "source": [
    "### 4.- What is a logical log for a relational database?"
   ]
  },
  {
   "cell_type": "markdown",
   "metadata": {},
   "source": [
    "#### A:\n",
    "It is usually a sequence of records describing writes to database tables at the granularity of a row:\n",
    "* For an inserted row.\n",
    "* For a deleted row.\n",
    "* For an updated row"
   ]
  },
  {
   "cell_type": "markdown",
   "metadata": {},
   "source": [
    "### 5.- What advantage is given by the fact that a logical log is decoupled from the storage engine internals?"
   ]
  },
  {
   "cell_type": "markdown",
   "metadata": {},
   "source": [
    "#### A: \n",
    "It can more easily be kept backward compatible, allowing the leader and the follower to run different versions of the database software, or even different storage engines."
   ]
  },
  {
   "cell_type": "markdown",
   "metadata": {},
   "source": [
    "### 6.- The merging concurrently written values algorithm, what ensure and what requires?"
   ]
  },
  {
   "cell_type": "markdown",
   "metadata": {},
   "source": [
    "#### A:\n",
    "It ensures that no data is silently dropped.\n",
    "\n",
    "Requires that the clients do some extra work: if several operations happen concurrently, clients\n",
    "have to clean up afterward by merging the concurrently written values."
   ]
  },
  {
   "cell_type": "markdown",
   "metadata": {},
   "source": [
    "## Chapter 6"
   ]
  },
  {
   "cell_type": "markdown",
   "metadata": {},
   "source": [
    "### 1.- What is the main reason for partitioning data?"
   ]
  },
  {
   "cell_type": "markdown",
   "metadata": {},
   "source": [
    "#### A:\n",
    "Is scalability, but Partitioning is also done to enhance performance and facilitate easy management of data. Partitioning also helps in balancing the various requirements of the system. It optimizes the hardware performance and simplifies the management of data warehouse by partitioning each fact table into multiple separate partitions. "
   ]
  },
  {
   "cell_type": "markdown",
   "metadata": {},
   "source": [
    "### 2.- What is a skew and how does it affect the data?"
   ]
  },
  {
   "cell_type": "markdown",
   "metadata": {},
   "source": [
    "#### A:\n",
    "If the partitioning is unfair, some partitions have more data or queries than\n",
    "others,this is called skewed. \n",
    "\n",
    "The presence of skew makes partitioning much less effective."
   ]
  },
  {
   "cell_type": "markdown",
   "metadata": {},
   "source": [
    "### 3.- What is a hot spot and how could it be easily avoided?"
   ]
  },
  {
   "cell_type": "markdown",
   "metadata": {},
   "source": [
    "#### A:\n",
    "A hot spot is a partition with disproportionately high load.\n",
    "\n",
    "The simplest approach for avoiding hot spots would be to assign records to nodes\n",
    "randomly.\n",
    " That would distribute the data quite evenly across the nodes, but it has a\n",
    "big disadvantage: when you’re trying to read a particular item, you have no way of\n",
    "knowing which node it is on, so you have to query all nodes in parallel."
   ]
  },
  {
   "cell_type": "markdown",
   "metadata": {},
   "source": [
    "### 4.- What are the \"Partitioning by Key Range\" based?"
   ]
  },
  {
   "cell_type": "markdown",
   "metadata": {},
   "source": [
    "#### A:\n",
    "It's based in assign a continuous range of keys to each partition, like the volumes of a paper encyclopedia. If you know the boundaries between the ranges, you can easily determine which partition contains a given key. If you also know which partition is assigned to which node, then you can make your request directly to the appropriate node."
   ]
  },
  {
   "cell_type": "markdown",
   "metadata": {},
   "source": [
    "### 5.- How does a secondary index work? Give some examples."
   ]
  },
  {
   "cell_type": "markdown",
   "metadata": {},
   "source": [
    "#### A:\n",
    "A secondary index usually doesn’t identify a record uniquely but rather is a way of searching for occurrences of a particular\n",
    "value.\n",
    "Examples: Find all cars whose color is..., find all articles containing the word ..., find all actions by user..., etc."
   ]
  },
  {
   "cell_type": "markdown",
   "metadata": {},
   "source": [
    "### 6.- What are the two main approaches to partitioning a database with secondary indexes?"
   ]
  },
  {
   "cell_type": "markdown",
   "metadata": {},
   "source": [
    "#### A:\n",
    "By Document(or local indexes):  In this, each partition maintains its own local secondary index. Query works as scatter and gather i.e. it would require gathering results from every partition and then merging it.\n",
    "\n",
    "By Term(or global index): In this, there is a global secondary index which covers entire data. With each key, it stores the partition in which it resides. As complete index might not get fit in a single node, global index can also be partitioned into different nodes. For example, index with keys A-R can reside in node-1 and rest on node-2. Global indexes increases write latency but provides faster reads.\n"
   ]
  },
  {
   "cell_type": "markdown",
   "metadata": {},
   "source": [
    "## Chapter 7"
   ]
  },
  {
   "cell_type": "markdown",
   "metadata": {},
   "source": [
    "### 1.- What is called ACID in a database?"
   ]
  },
  {
   "cell_type": "markdown",
   "metadata": {},
   "source": [
    "#### A: It is a set of characteristics necessary for a series of instructions to be considered as a transaction."
   ]
  },
  {
   "cell_type": "markdown",
   "metadata": {},
   "source": [
    "### 2.- What is the meaning of the acronym ACID and what does each thing mean?"
   ]
  },
  {
   "cell_type": "markdown",
   "metadata": {},
   "source": [
    "#### A: \n",
    "ACID means: Atomicity, Consistency, Isolation and Durability:\n",
    "\n",
    "Atomicity: it is the property that guarantees that the operation has been carried out or not, and therefore, in the event of a system failure, it cannot be left half\n",
    "\n",
    "Consistency: it is the property that ensures that only what can be finished will return. Therefore, operations are executed that will not break integrity rules and guidelines.\n",
    "from the database.\n",
    "\n",
    "Isolation: is the property that guarantees that one operation cannot affect others. This guarantees that performing two operations with the same information never generates any type of error.\n",
    "\n",
    "Durability: is the property that ensures that once the operation is performed it will persist, and it is not the property that ensures that once the operation is performed, it will persist and cannot be undone even if the system fails."
   ]
  },
  {
   "cell_type": "markdown",
   "metadata": {},
   "source": [
    "### 3.- Why many distributed datastores have abandoned multi-object transactions?"
   ]
  },
  {
   "cell_type": "markdown",
   "metadata": {},
   "source": [
    "#### A:\n",
    "Because they are difficult to implement across partitions, and they can get in the way in some scenarios where very high availability or performance is required. "
   ]
  },
  {
   "cell_type": "markdown",
   "metadata": {},
   "source": [
    "### 4.- What happen if two transactions don't touch the same data?"
   ]
  },
  {
   "cell_type": "markdown",
   "metadata": {},
   "source": [
    "#### A:\n",
    "They can safely be run in parallel, because neither depends on the other."
   ]
  },
  {
   "cell_type": "markdown",
   "metadata": {},
   "source": [
    "### 5.- Why the Concurrency bugs are hard to find by testing?"
   ]
  },
  {
   "cell_type": "markdown",
   "metadata": {},
   "source": [
    "#### A:\n",
    "Because such bugs are only triggered\n",
    "when you get unlucky with the timing. Such timing issues might occur very rarely,\n",
    "and are usually difficult to reproduce. Concurrency is also very difficult to reason\n",
    "about, especially in a large application where you don’t necessarily know which other\n",
    "pieces of code are accessing the database"
   ]
  },
  {
   "cell_type": "markdown",
   "metadata": {},
   "source": [
    "### 6.- What happens when we execute all transactions serially?"
   ]
  },
  {
   "cell_type": "markdown",
   "metadata": {},
   "source": [
    "#### A: \n",
    "It makes concurrency control much simpler, but limits the transaction throughput of the database to the speed of a single CPU core on a\n",
    "single machine."
   ]
  },
  {
   "cell_type": "code",
   "execution_count": null,
   "metadata": {},
   "outputs": [],
   "source": []
  }
 ],
 "metadata": {
  "kernelspec": {
   "display_name": "Python 3",
   "language": "python",
   "name": "python3"
  },
  "language_info": {
   "codemirror_mode": {
    "name": "ipython",
    "version": 3
   },
   "file_extension": ".py",
   "mimetype": "text/x-python",
   "name": "python",
   "nbconvert_exporter": "python",
   "pygments_lexer": "ipython3",
   "version": "3.8.5"
  }
 },
 "nbformat": 4,
 "nbformat_minor": 4
}
