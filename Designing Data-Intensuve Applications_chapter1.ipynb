{
 "cells": [
  {
   "cell_type": "markdown",
   "metadata": {},
   "source": [
    "## Chapter 1"
   ]
  },
  {
   "cell_type": "markdown",
   "metadata": {},
   "source": [
    "### 1.- Why it is not so easy for an engineer to write a new data storage engine from scratch?"
   ]
  },
  {
   "cell_type": "markdown",
   "metadata": {},
   "source": [
    "#### A:\n",
    "Despite the fact that databases are the perfect tool, there are many database systems with different characteristics, because different applications have different requirements."
   ]
  },
  {
   "cell_type": "markdown",
   "metadata": {},
   "source": [
    "###  2.- Tell some typical reliability expectations for the software:"
   ]
  },
  {
   "cell_type": "markdown",
   "metadata": {},
   "source": [
    "#### A:\n",
    "* The application performs the function that the user expected. \n",
    "* It can tolerate the user making mistakes or using the software in unexpected\n",
    "ways.\n",
    "* Its performance is good enough for the required use case, under the expected\n",
    "load and data volume.\n",
    "* The system prevents any unauthorized access and abuse."
   ]
  },
  {
   "cell_type": "markdown",
   "metadata": {},
   "source": [
    "### 3.- What is the difference between a fault and a failure?"
   ]
  },
  {
   "cell_type": "markdown",
   "metadata": {},
   "source": [
    "#### A:\n",
    "* A fault is usually defined as one component of the system deviating from its spec.\n",
    "* Failure is when the system as a whole stops providing the required service to the user.\n"
   ]
  },
  {
   "cell_type": "markdown",
   "metadata": {},
   "source": [
    "### 4.- What kinds of hardware failures can there be?"
   ]
  },
  {
   "cell_type": "markdown",
   "metadata": {},
   "source": [
    "#### A:\n",
    "* Hard drives crash.\n",
    "* RAM becomes faulty.\n",
    "* The power grid has a blackou.\n",
    "* Someone disconnects the wrong network cable.\n",
    "* Power supply error.\n",
    "* Faults on the motherboard.\n",
    "* Excessive heating"
   ]
  },
  {
   "cell_type": "markdown",
   "metadata": {},
   "source": [
    "### 5.- Why are cascading failures dangerous?"
   ]
  },
  {
   "cell_type": "markdown",
   "metadata": {},
   "source": [
    "#### A:\n",
    "Because these errors are usually inactive for a long time, and are triggered by an unusual set of events.\n",
    "When this happens, then other parts must make up for the failed component. This in turn overloaded these nodes, causing them to crash as well, which caused additional nodes to fail one after the other."
   ]
  },
  {
   "cell_type": "markdown",
   "metadata": {},
   "source": [
    "### 6.- Difference between horizontal and vertical scalability."
   ]
  },
  {
   "cell_type": "markdown",
   "metadata": {},
   "source": [
    "#### A:\n",
    "* Scaling up a system means a migration of the entire system to new hardware that is more powerful and efficient than the current one.\n",
    "* Horizontal scalability consists of boosting the performance of the system from an aspect of global improvement, as opposed to increasing the power of a single part of it."
   ]
  },
  {
   "cell_type": "code",
   "execution_count": null,
   "metadata": {},
   "outputs": [],
   "source": []
  }
 ],
 "metadata": {
  "kernelspec": {
   "display_name": "Python 3",
   "language": "python",
   "name": "python3"
  },
  "language_info": {
   "codemirror_mode": {
    "name": "ipython",
    "version": 3
   },
   "file_extension": ".py",
   "mimetype": "text/x-python",
   "name": "python",
   "nbconvert_exporter": "python",
   "pygments_lexer": "ipython3",
   "version": "3.8.1"
  }
 },
 "nbformat": 4,
 "nbformat_minor": 4
}
