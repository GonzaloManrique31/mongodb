{
 "cells": [
  {
   "cell_type": "markdown",
   "metadata": {},
   "source": [
    "# Bigdata principles"
   ]
  },
  {
   "cell_type": "markdown",
   "metadata": {},
   "source": [
    "## Chapter 1"
   ]
  },
  {
   "cell_type": "markdown",
   "metadata": {},
   "source": [
    "### 1.- What kind of benefits do we get from using the lambda architecture?"
   ]
  },
  {
   "cell_type": "markdown",
   "metadata": {},
   "source": [
    "#### Answer:\n",
    "Unlike fully incremental architectures that present problems such as compaction, high consistency of highly available data, and lack of tolerance for human failure that require complex solutions, the Lambda architecture achieves many benefits, because thanks to its scalability, we can have a wider collection and have more values; With the data we can carry out a deeper analysis, make calculations in the data set for migrations or correct errors.\n",
    "If any algorithm is wrong and running, the damage can be repaired quickly and easily."
   ]
  },
  {
   "cell_type": "markdown",
   "metadata": {},
   "source": [
    "### 2.- why elastic clouds are important in big data?"
   ]
  },
  {
   "cell_type": "markdown",
   "metadata": {},
   "source": [
    "#### Answer:\n",
    "We can rent hardware somewhere distant and we have high benefits such as rapid changes in the size of our cluster making storage scalable, durable, reliable, highly available and most importantly, cheap.\n",
    "Another benefit that characterizes this type of storage is that, instead of moving the data periodically, we can direct our data source directly to the cloud, bringing the data closer to the computing resources for analysis, and thus reduce latency."
   ]
  },
  {
   "cell_type": "markdown",
   "metadata": {},
   "source": [
    "### 3.- How we could use a scalable data systems to produce systems that are capable of tolerating human failure and are minimally complex.\n"
   ]
  },
  {
   "cell_type": "markdown",
   "metadata": {},
   "source": [
    "#### Answer:\n",
    "Programs like Hadoop can parallelize large-scale batch calculations, but their calculations have high latency.\n",
    "Cassandra on the other hand has a scalability obteined due to the limited data model, even more than a SQL.\n",
    "There are many limitations between the two, but if used together we can create scalable systems that handles data of any kind, or serves specific situations in a better way."
   ]
  },
  {
   "cell_type": "markdown",
   "metadata": {},
   "source": [
    "### 4.- Why is it important that systems be tolerant of human failure?"
   ]
  },
  {
   "cell_type": "markdown",
   "metadata": {},
   "source": [
    "#### Answer:\n",
    "We can make many mistakes when creating a database, or when editing it.\n",
    "We can put an incorrect code or enter an incorrect value, so it must be able to correct algorithms or delete incorrect data or restore accidentally deleted data."
   ]
  },
  {
   "cell_type": "markdown",
   "metadata": {},
   "source": [
    "## Chapter 2"
   ]
  },
  {
   "cell_type": "markdown",
   "metadata": {},
   "source": [
    "### 1.- What is the importance of immutable data?"
   ]
  },
  {
   "cell_type": "markdown",
   "metadata": {},
   "source": [
    "#### Answer:  \n",
    "It is an important and fundamental resource in relationships databases.\n",
    "We can make a large number of errors, and to avoid the impact of these errors, such as avoiding loss of data, we use this type of model, for example if we misspell the data, we have a backup and to add new units of data to the master data set we don't need an index for the data"
   ]
  },
  {
   "cell_type": "markdown",
   "metadata": {},
   "source": [
    "### 2.- What are the benefits of changing our current model to a fact-based model?"
   ]
  },
  {
   "cell_type": "markdown",
   "metadata": {},
   "source": [
    "#### Answer: \n",
    "In the first instance, a fact is a data that cannot be deconstructed any more, and it has a time stamp.\n",
    "Which means that each fact is \"eternally true\" so that our information will not be redundant, it is specific to a particular point in time, it is immutable in such a way that it cannot be changed or eliminated, this means that each fact serves to capture a single piece of information that always remains true in the data set, which maintains an advantage when it comes to data collection and if the entered data is wrong, you can mitigate the errors with the previous data."
   ]
  },
  {
   "cell_type": "markdown",
   "metadata": {},
   "source": [
    "### 3.- What advantages do graphic diagrams bring us?"
   ]
  },
  {
   "cell_type": "markdown",
   "metadata": {},
   "source": [
    "#### Answer: \n",
    "One of the main advantages of using a graphical scheme is that it can be easily expanded. New information can be added by defining new node, border, and property types, and this process does not affect existing fact types. In this way, graphical schemes can be adapted to capture the complexity of an evolving system and are able to adequately represent data that is diverse and unpredictable."
   ]
  },
  {
   "cell_type": "markdown",
   "metadata": {},
   "source": [
    "### 4.- How does lambda architecture handle normalization and denormalization?"
   ]
  },
  {
   "cell_type": "markdown",
   "metadata": {},
   "source": [
    "#### Answer:\n",
    "lambda makes it possible to store your master dataset normalized, while offering the flexibility to denormalize your real-time and batch views as needed.\n",
    "This can help your querys from better for NoSQL data"
   ]
  },
  {
   "cell_type": "markdown",
   "metadata": {},
   "source": [
    "## Chapter 3"
   ]
  },
  {
   "cell_type": "markdown",
   "metadata": {},
   "source": [
    "### 1.- Which one is better?: An enforceable schema or a schemaless format, Why?"
   ]
  },
  {
   "cell_type": "markdown",
   "metadata": {},
   "source": [
    "#### Answer:\n",
    "* A schemeless format that is prone to data corruption is very difficult to fix because the problem appears after finishing a process, when a lot of corrupted data has already been written.\n",
    "* With the enforceable schema, the errors we can see at the moment we write the data, that is, you know why they are invalid and that way we can avoid damaging the master data."
   ]
  },
  {
   "cell_type": "markdown",
   "metadata": {},
   "source": [
    "### 2.- What property and why is it crucial in Thrift design?"
   ]
  },
  {
   "cell_type": "markdown",
   "metadata": {},
   "source": [
    "#### Answer:\n",
    "The property of being able to evolve over time, since over time it is necessary to add new data types in case the product has new requirements."
   ]
  },
  {
   "cell_type": "markdown",
   "metadata": {},
   "source": [
    "### 3.- Why the numeric identifier of each field is used to evolve Thrift?"
   ]
  },
  {
   "cell_type": "markdown",
   "metadata": {},
   "source": [
    "#### Answer:\n",
    "They are used because they identify fields in their serialized form."
   ]
  },
  {
   "cell_type": "markdown",
   "metadata": {},
   "source": [
    "### 4.- What are the three rules to follow when we want to change a scheme but that it is still compatible with the data we have:"
   ]
  },
  {
   "cell_type": "markdown",
   "metadata": {},
   "source": [
    "#### Answer:\n",
    "* Fields may be renamed: because being serialized they use IDs.\n",
    "\n",
    "* You can delete a field, but you should not reuse an ID: Since Thrift would attempt to deserialize the old data in the new field, it would result in invalid or incorrect data.\n",
    "\n",
    "* Only optional fields can be added because existing data: Since existing data will not have those fields and will not be deserializable."
   ]
  },
  {
   "cell_type": "markdown",
   "metadata": {},
   "source": [
    "### 5.- What is the correct way in which we should think about schema?"
   ]
  },
  {
   "cell_type": "markdown",
   "metadata": {},
   "source": [
    "#### Answer:\n",
    "Schema is like a function that takes data and returns whether it is valid or not."
   ]
  },
  {
   "cell_type": "markdown",
   "metadata": {},
   "source": [
    "### 6.- What are the limitations of the serialization frameworks?"
   ]
  },
  {
   "cell_type": "markdown",
   "metadata": {},
   "source": [
    "#### Answer:\n",
    "They only verify that all required fields are present and of the expected type."
   ]
  },
  {
   "cell_type": "markdown",
   "metadata": {},
   "source": [
    "                                                                                                            GonzaloManrique"
   ]
  }
 ],
 "metadata": {
  "kernelspec": {
   "display_name": "Python 3",
   "language": "python",
   "name": "python3"
  },
  "language_info": {
   "codemirror_mode": {
    "name": "ipython",
    "version": 3
   },
   "file_extension": ".py",
   "mimetype": "text/x-python",
   "name": "python",
   "nbconvert_exporter": "python",
   "pygments_lexer": "ipython3",
   "version": "3.8.1"
  }
 },
 "nbformat": 4,
 "nbformat_minor": 4
}
